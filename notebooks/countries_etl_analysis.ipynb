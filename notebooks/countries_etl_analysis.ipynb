{
 "cells": [
  {
   "cell_type": "code",
   "execution_count": 0,
   "metadata": {
    "application/vnd.databricks.v1+cell": {
     "cellMetadata": {
      "byteLimit": 2048000,
      "rowLimit": 10000
     },
     "inputWidgets": {},
     "nuid": "e19bf207-2f67-4592-a9c5-a82d2ff7f2de",
     "showTitle": false,
     "tableResultSettingsMap": {},
     "title": ""
    }
   },
   "outputs": [],
   "source": [
    "# 📦 Importação de bibliotecas\n",
    "import pandas as pd\n",
    "import requests\n",
    "import plotly.express as px\n",
    "\n",
    "# 🔽 Etapa de Extração (API)\n",
    "url = \"https://restcountries.com/v3.1/all?fields=name,capital,region,population,latlng\"\n",
    "data = requests.get(url).json()\n",
    "\n",
    "# 🧹 Etapa de Transformação (normalização e limpeza)\n",
    "df = pd.json_normalize(data)\n",
    "\n",
    "df['country'] = df['name.common']\n",
    "df['official_name'] = df['name.official']\n",
    "df['capital'] = df['capital'].apply(lambda x: x[0] if isinstance(x, list) and x else 'N/A')\n",
    "df['latitude'] = df['latlng'].apply(lambda x: x[0] if isinstance(x, list) and len(x) > 0 else None)\n",
    "df['longitude'] = df['latlng'].apply(lambda x: x[1] if isinstance(x, list) and len(x) > 1 else None)\n",
    "\n",
    "# 🔎 Remove países sem coordenadas\n",
    "df_clean = df.dropna(subset=['latitude', 'longitude'])\n"
   ]
  },
  {
   "cell_type": "markdown",
   "metadata": {
    "application/vnd.databricks.v1+cell": {
     "cellMetadata": {},
     "inputWidgets": {},
     "nuid": "e70ff8b4-53ce-431e-96c2-d88a36373f95",
     "showTitle": false,
     "tableResultSettingsMap": {},
     "title": ""
    }
   },
   "source": [
    "🌍 Mapa Interativo"
   ]
  },
  {
   "cell_type": "code",
   "execution_count": 0,
   "metadata": {
    "application/vnd.databricks.v1+cell": {
     "cellMetadata": {
      "byteLimit": 2048000,
      "rowLimit": 10000
     },
     "inputWidgets": {},
     "nuid": "2f1d3269-697f-4f4c-9344-b2315aa19a64",
     "showTitle": false,
     "tableResultSettingsMap": {},
     "title": ""
    }
   },
   "outputs": [
    {
     "output_type": "display_data",
     "data": {
      "text/html": [
       "<html>\n",
       "<head><meta charset=\"utf-8\" /></head>\n",
       "<body>\n",
       "    <div>            <script src=\"https://cdnjs.cloudflare.com/ajax/libs/mathjax/2.7.5/MathJax.js?config=TeX-AMS-MML_SVG\"></script><script type=\"text/javascript\">if (window.MathJax) {MathJax.Hub.Config({SVG: {font: \"STIX-Web\"}});}</script>                <script type=\"text/javascript\">window.PlotlyConfig = {MathJaxConfig: 'local'};</script>\n",
       "        <script src=\"https://cdn.plot.ly/plotly-2.9.0.min.js\"></script>                <div id=\"52d769d1-ab7d-4fdd-b137-a919bb822132\" class=\"plotly-graph-div\" style=\"height:100%; width:100%;\"></div>            <script type=\"text/javascript\">                                    window.PLOTLYENV=window.PLOTLYENV || {};                                    if (document.getElementById(\"52d769d1-ab7d-4fdd-b137-a919bb822132\")) {                    Plotly.newPlot(                        \"52d769d1-ab7d-4fdd-b137-a919bb822132\",                        [{\"customdata\":[[\"Lom\\u00e9\",8278737],[\"Mamoudzou\",226915],[\"Tbilisi\",3714000],[\"Port Vila\",307150],[\"Bishkek\",6591600],[\"Niamey\",24206636],[\"Beijing\",1402112000],[\"Funafuti\",11792],[\"Moroni\",869595],[\"Sarajevo\",3280815],[\"Manama\",1701583],[\"Mogadishu\",15893219],[\"Gustavia\",4255],[\"Riga\",1901548],[\"George Town\",65720],[\"Amsterdam\",16655799],[\"Maseru\",2142252],[\"Caracas\",28435943],[\"Nairobi\",53771300],[\"Ankara\",84339067],[\"Suva\",896444],[\"Port of Spain\",1399491],[\"Tegucigalpa\",9904608],[\"Saint Helier\",100800],[\"Djibouti\",988002],[\"Saint-Denis\",840974],[\"Mbabane\",1160164],[\"Dushanbe\",9537642],[\"Riyadh\",34813867],[\"Hamilton\",63903],[\"Wellington\",5084300],[\"Minsk\",9398861],[\"Flying Fish Cove\",2072],[\"Banjul\",2416664],[\"Papeet\\u0113\",280904],[\"Kinshasa\",108407721],[\"San Jos\\u00e9\",5094114],[\"Lilongwe\",19129955],[\"Brazzaville\",5657000],[\"Muscat\",5106622],[\"Baghdad\",40222503],[\"Alofi\",1470],[\"Dakar\",16743930],[\"Beirut\",6825442],[\"Luanda\",32866268],[\"Tehran\",83992953],[\"Quito\",17643060],[\"Vientiane\",7275556],[\"Sri Jayawardenepura Kotte\",21919000],[\"Oranjestad\",106766],[\"S\\u00e3o Tom\\u00e9\",219161],[\"St. George's\",112519],[\"Plymouth\",4922],[\"El Aai\\u00fan\",510713],[\"Conakry\",13132792],[\"Road Town\",30237],[\"Panama City\",4314768],[\"Sana'a\",29825968],[\"Tallinn\",1331057],[\"Georgetown\",786559],[\"Luxembourg\",632275],[\"Windhoek\",2540916],[\"Pristina\",1775378],[\"Noum\\u00e9a\",271960],[\"Saint-Pierre\",6069],[\"Tripoli\",6871287],[\"Naypyidaw\",54409794],[\"Jerusalem\",9216900],[\"Bamako\",20250834],[\"Buenos Aires\",45376763],[\"Cayenne\",254541],[\"Kampala\",45741000],[\"Kuala Lumpur\",32365998],[\"Lusaka\",18383956],[\"Palikir\",115021],[\"Bratislava\",5458827],[\"Gitega\",11890781],[\"Belgrade\",6908224],[\"Ashgabat\",6031187],[\"Pretoria\",59308690],[\"Astana\",18754440],[\"Ottawa\",38005238],[\"Warsaw\",37950802],[\"San Juan\",3194034],[\"West Island\",544],[\"City of San Marino\",33938],[\"Pago Pago\",55197],[\"Doha\",2881060],[\"Gibraltar\",33691],[\"Zagreb\",4047200],[\"Longyearbyen\",2562],[\"Douglas\",85032],[\"Ramallah\",4803269],[\"Port Louis\",1265740],[\"Marigot\",38659],[\"Freetown\",7976985],[\"Basseterre\",53192],[\"Reykjavik\",366425],[\"N/A\",0],[\"Kuwait City\",4270563],[\"Taipei\",23503349],[\"Yaound\\u00e9\",26545864],[\"San Salvador\",6486201],[\"N/A\",649342],[\"Havana\",11326616],[\"Bras\\u00edlia\",212559409],[\"Honiara\",686878],[\"Athens\",10715549],[\"Oslo\",5379475],[\"Kingston\",2961161],[\"Dodoma\",59734213],[\"Sucre\",11673029],[\"Nicosia\",1207361],[\"Ulan Bator\",3278292],[\"Monaco\",39244],[\"Tunis\",11818618],[\"Port-aux-Fran\\u00e7ais\",400],[\"Damascus\",17500657],[\"Santiago\",19116209],[\"Baku\",10110116],[\"Paris\",67391582],[\"Seoul\",51780579],[\"Accra\",31072945],[\"Copenhagen\",5831404],[\"Philipsburg\",40812],[\"Andorra la Vella\",77265],[\"Willemstad\",155014],[\"Bern\",8654622],[\"Skopje\",2077132],[\"Juba\",11193729],[\"Port-au-Prince\",11402533],[\"Lima\",32971846],[\"Bissau\",1967998],[\"Prague\",10698896],[\"Lisbon\",10305564],[\"Libreville\",2225728],[\"Mexico City\",128932753],[\"Rome\",59554023],[\"Helsinki\",5530719],[\"Harare\",14862927],[\"Madrid\",47351567],[\"Tokyo\",125836021],[\"Victoria\",98462],[\"Tirana\",2837743],[\"Chi\\u0219in\\u0103u\",2617820],[\"Guatemala City\",16858333],[\"Berlin\",83240525],[\"Basse-Terre\",400132],[\"Sofia\",6927288],[\"Asunci\\u00f3n\",7132530],[\"Asmara\",5352000],[\"Khartoum\",43849269],[\"Malabo\",1402985],[\"Bogot\\u00e1\",50882884],[\"Abuja\",206139587],[\"Podgorica\",621718],[\"Kathmandu\",29136808],[\"Bandar Seri Begawan\",437483],[\"Vienna\",8917205],[\"Cockburn Town\",38718],[\"Nassau\",393248],[\"London\",67215293],[\"Diego Garcia\",3000],[\"Monrovia\",5057677],[\"The Valley\",13452],[\"Bangui\",4829764],[\"Algiers\",44700000],[\"Castries\",183629],[\"Bucharest\",19286123],[\"Abu Dhabi\",9890400],[\"Rabat\",36910558],[\"Saipan\",57557],[\"Washington DC\",300],[\"Gaborone\",2351625],[\"Vilnius\",2794700],[\"Kralendijk\",25987],[\"Praia\",555988],[\"Washington, D.C.\",329484123],[\"Canberra\",25687041],[\"Hag\\u00e5t\\u00f1a\",168783],[\"Nuku'alofa\",105697],[\"Kabul\",40218234],[\"Stanley\",2563],[\"Yaren\",10834],[\"Avarua\",18100],[\"Budapest\",9749763],[\"Nouakchott\",4649660],[\"Ljubljana\",2100126],[\"N'Djamena\",16425859],[\"Vatican City\",451],[\"Porto-Novo\",12123198],[\"Singapore\",5685807],[\"Valletta\",525285],[\"Kingstown\",110947],[\"Majuro\",59194],[\"Bangkok\",69799978],[\"Vaduz\",38137],[\"Dublin\",4994724],[\"Mal\\u00e9\",540542],[\"Hanoi\",97338583],[\"Yerevan\",2963234],[\"Islamabad\",220892331],[\"Yamoussoukro\",26378275],[\"Moscow\",144104080],[\"Fort-de-France\",378243],[\"N/A\",0],[\"Dili\",1318442],[\"Managua\",6624554],[\"Port Moresby\",8947027],[\"Cairo\",102334403],[\"Amman\",10203140],[\"Montevideo\",3473727],[\"Ouagadougou\",20903278],[\"Phnom Penh\",16718971],[\"Addis Ababa\",114963583],[\"South Tarawa\",119446],[\"Thimphu\",771612],[\"Santo Domingo\",10847904],[\"Paramaribo\",586634],[\"Dhaka\",164689383],[\"Bridgetown\",287371],[\"Pyongyang\",25778815],[\"Nuuk\",56367],[\"Brussels\",11555997],[\"Ngerulmud\",18092],[\"Kingston\",2302],[\"King Edward Point\",30],[\"Manila\",109581085],[\"New Delhi\",1380004385],[\"Jakarta\",273523621],[\"Charlotte Amalie\",106290],[\"Roseau\",71991],[\"Kigali\",12952209],[\"Antananarivo\",27691019],[\"City of Victoria\",7500700],[\"Apia\",198410],[\"T\\u00f3rshavn\",48865],[\"Adamstown\",56],[\"Saint John's\",97928],[\"Mariehamn\",29458],[\"Stockholm\",10353442],[\"Maputo\",31255435],[\"Tashkent\",34232050],[\"N/A\",1000],[\"Mata-Utu\",11750],[\"Kyiv\",44134693],[\"Belmopan\",397621],[\"Jamestown\",53192],[\"St. Peter Port\",62999],[\"Fakaofo\",1411]],\"geo\":\"geo\",\"hovertemplate\":\"<b>%{hovertext}</b><br><br>population=%{customdata[1]}<br>latitude=%{lat}<br>longitude=%{lon}<br>capital=%{customdata[0]}<extra></extra>\",\"hovertext\":[\"Togo\",\"Mayotte\",\"Georgia\",\"Vanuatu\",\"Kyrgyzstan\",\"Niger\",\"China\",\"Tuvalu\",\"Comoros\",\"Bosnia and Herzegovina\",\"Bahrain\",\"Somalia\",\"Saint Barth\\u00e9lemy\",\"Latvia\",\"Cayman Islands\",\"Netherlands\",\"Lesotho\",\"Venezuela\",\"Kenya\",\"Turkey\",\"Fiji\",\"Trinidad and Tobago\",\"Honduras\",\"Jersey\",\"Djibouti\",\"R\\u00e9union\",\"Eswatini\",\"Tajikistan\",\"Saudi Arabia\",\"Bermuda\",\"New Zealand\",\"Belarus\",\"Christmas Island\",\"Gambia\",\"French Polynesia\",\"DR Congo\",\"Costa Rica\",\"Malawi\",\"Republic of the Congo\",\"Oman\",\"Iraq\",\"Niue\",\"Senegal\",\"Lebanon\",\"Angola\",\"Iran\",\"Ecuador\",\"Laos\",\"Sri Lanka\",\"Aruba\",\"S\\u00e3o Tom\\u00e9 and Pr\\u00edncipe\",\"Grenada\",\"Montserrat\",\"Western Sahara\",\"Guinea\",\"British Virgin Islands\",\"Panama\",\"Yemen\",\"Estonia\",\"Guyana\",\"Luxembourg\",\"Namibia\",\"Kosovo\",\"New Caledonia\",\"Saint Pierre and Miquelon\",\"Libya\",\"Myanmar\",\"Israel\",\"Mali\",\"Argentina\",\"French Guiana\",\"Uganda\",\"Malaysia\",\"Zambia\",\"Micronesia\",\"Slovakia\",\"Burundi\",\"Serbia\",\"Turkmenistan\",\"South Africa\",\"Kazakhstan\",\"Canada\",\"Poland\",\"Puerto Rico\",\"Cocos (Keeling) Islands\",\"San Marino\",\"American Samoa\",\"Qatar\",\"Gibraltar\",\"Croatia\",\"Svalbard and Jan Mayen\",\"Isle of Man\",\"Palestine\",\"Mauritius\",\"Saint Martin\",\"Sierra Leone\",\"Saint Kitts and Nevis\",\"Iceland\",\"Heard Island and McDonald Islands\",\"Kuwait\",\"Taiwan\",\"Cameroon\",\"El Salvador\",\"Macau\",\"Cuba\",\"Brazil\",\"Solomon Islands\",\"Greece\",\"Norway\",\"Jamaica\",\"Tanzania\",\"Bolivia\",\"Cyprus\",\"Mongolia\",\"Monaco\",\"Tunisia\",\"French Southern and Antarctic Lands\",\"Syria\",\"Chile\",\"Azerbaijan\",\"France\",\"South Korea\",\"Ghana\",\"Denmark\",\"Sint Maarten\",\"Andorra\",\"Cura\\u00e7ao\",\"Switzerland\",\"North Macedonia\",\"South Sudan\",\"Haiti\",\"Peru\",\"Guinea-Bissau\",\"Czechia\",\"Portugal\",\"Gabon\",\"Mexico\",\"Italy\",\"Finland\",\"Zimbabwe\",\"Spain\",\"Japan\",\"Seychelles\",\"Albania\",\"Moldova\",\"Guatemala\",\"Germany\",\"Guadeloupe\",\"Bulgaria\",\"Paraguay\",\"Eritrea\",\"Sudan\",\"Equatorial Guinea\",\"Colombia\",\"Nigeria\",\"Montenegro\",\"Nepal\",\"Brunei\",\"Austria\",\"Turks and Caicos Islands\",\"Bahamas\",\"United Kingdom\",\"British Indian Ocean Territory\",\"Liberia\",\"Anguilla\",\"Central African Republic\",\"Algeria\",\"Saint Lucia\",\"Romania\",\"United Arab Emirates\",\"Morocco\",\"Northern Mariana Islands\",\"United States Minor Outlying Islands\",\"Botswana\",\"Lithuania\",\"Caribbean Netherlands\",\"Cape Verde\",\"United States\",\"Australia\",\"Guam\",\"Tonga\",\"Afghanistan\",\"Falkland Islands\",\"Nauru\",\"Cook Islands\",\"Hungary\",\"Mauritania\",\"Slovenia\",\"Chad\",\"Vatican City\",\"Benin\",\"Singapore\",\"Malta\",\"Saint Vincent and the Grenadines\",\"Marshall Islands\",\"Thailand\",\"Liechtenstein\",\"Ireland\",\"Maldives\",\"Vietnam\",\"Armenia\",\"Pakistan\",\"Ivory Coast\",\"Russia\",\"Martinique\",\"Bouvet Island\",\"Timor-Leste\",\"Nicaragua\",\"Papua New Guinea\",\"Egypt\",\"Jordan\",\"Uruguay\",\"Burkina Faso\",\"Cambodia\",\"Ethiopia\",\"Kiribati\",\"Bhutan\",\"Dominican Republic\",\"Suriname\",\"Bangladesh\",\"Barbados\",\"North Korea\",\"Greenland\",\"Belgium\",\"Palau\",\"Norfolk Island\",\"South Georgia\",\"Philippines\",\"India\",\"Indonesia\",\"United States Virgin Islands\",\"Dominica\",\"Rwanda\",\"Madagascar\",\"Hong Kong\",\"Samoa\",\"Faroe Islands\",\"Pitcairn Islands\",\"Antigua and Barbuda\",\"\\u00c5land Islands\",\"Sweden\",\"Mozambique\",\"Uzbekistan\",\"Antarctica\",\"Wallis and Futuna\",\"Ukraine\",\"Belize\",\"Saint Helena, Ascension and Tristan da Cunha\",\"Guernsey\",\"Tokelau\"],\"lat\":[8.0,-12.83333333,42.0,-16.0,41.0,16.0,35.0,-8.0,-12.16666666,44.0,26.0,10.0,18.5,57.0,19.3133,52.5,-29.5,8.0,1.0,39.0,-17.7134,10.6918,15.0,49.25,11.5,-21.15,-26.5,39.0,25.0,32.33333333,-41.0,53.0,-10.5,13.46666666,-17.6797,0.0,10.0,-13.5,-1.0,21.0,33.0,-19.03333333,14.0,33.83333333,-12.5,32.0,-2.0,18.0,7.0,12.5,1.0,12.11666666,16.75,24.5,11.0,18.431383,9.0,15.0,59.0,5.0,49.75,-22.0,42.666667,-21.5,46.83333333,25.0,22.0,31.47,17.0,-34.0,4.0,1.0,2.5,-15.0,6.91666666,48.66666666,-3.5,44.0,40.0,-29.0,48.0196,60.0,52.0,18.25,-12.1642,43.76666666,-14.33333333,25.5,36.13333333,45.16666666,78.0,54.25,31.9,-20.28333333,18.0708,8.5,17.33333333,65.0,-53.0818,29.5,23.5,6.0,13.83333333,22.16666666,21.5,-10.0,-8.0,39.0,62.0,18.25,-6.0,-17.0,35.0,46.0,43.73333333,34.0,-49.25,35.0,-30.0,40.5,46.0,37.0,8.0,56.0,18.033333,42.5,12.116667,47.0,41.83333333,7.0,19.0,-10.0,12.0,49.75,39.5,-1.0,23.0,42.83333333,64.0,-20.0,40.0,36.0,-4.58333333,41.0,47.0,15.5,51.0,16.25,43.0,-23.0,15.0,15.0,2.0,4.0,10.0,42.5,28.0,4.5,47.33333333,21.75,25.0343,54.0,-6.0,6.5,18.25,7.0,28.0,13.88333333,46.0,24.0,32.0,15.2,19.3,-22.0,56.0,12.18,16.5388,38.0,-27.0,13.46666666,-20.0,33.0,-51.75,-0.53333333,-21.23333333,47.0,20.0,46.11666666,15.0,41.9,9.5,1.36666666,35.9375,13.25,9.0,15.0,47.26666666,53.0,3.25,16.16666666,40.0,30.0,8.0,60.0,14.666667,54.4208,-8.83333333,13.0,-6.0,27.0,31.0,-33.0,13.0,13.0,8.0,1.41666666,27.5,19.0,4.0,24.0,13.16666666,40.0,72.0,50.83333333,7.5,-29.03333333,-54.5,13.0,20.0,-5.0,18.35,15.41666666,-2.0,-20.0,22.267,-13.58333333,62.0,-25.06666666,17.05,60.116667,62.0,-18.25,41.0,-90.0,-13.3,49.0,17.25,-15.95,49.46666666,-9.0],\"legendgroup\":\"\",\"lon\":[1.16666666,45.16666666,43.5,167.0,75.0,8.0,105.0,178.0,44.25,18.0,50.55,49.0,-63.41666666,25.0,-81.2546,5.75,28.5,-66.0,38.0,35.0,178.065,-61.2225,-86.5,-2.16666666,43.0,55.5,31.5,71.0,45.0,-64.75,174.0,28.0,105.66666666,-16.56666666,-149.4068,25.0,-84.0,34.0,15.0,57.0,44.0,-169.86666666,-14.0,35.83333333,18.5,53.0,-77.5,105.0,81.0,-69.96666666,7.0,-61.66666666,-62.2,-13.0,-10.0,-64.62305,-80.0,48.0,26.0,-59.0,6.16666666,17.0,21.166667,165.5,-56.33333333,17.0,98.0,35.13,-4.0,-64.0,-53.0,32.0,112.5,30.0,158.25,19.5,30.0,21.0,60.0,24.0,66.9237,-95.0,20.0,-66.5,96.871,12.41666666,-170.0,51.25,-5.35,15.5,20.0,-4.5,35.2,57.55,-63.0501,-11.5,-62.75,-18.0,73.5042,45.75,121.0,12.0,-88.91666666,113.55,-80.0,-55.0,159.0,22.0,10.0,-77.5,35.0,-65.0,33.0,105.0,7.4,9.0,69.167,38.0,-71.0,47.5,2.0,127.5,-2.0,10.0,-63.05,1.5,-68.933333,8.0,22.0,30.0,-72.41666666,-76.0,-15.0,15.5,-8.0,11.75,-102.0,12.83333333,26.0,30.0,-4.0,138.0,55.66666666,20.0,29.0,-90.25,9.0,-61.583333,25.0,-58.0,39.0,30.0,10.0,-72.0,8.0,19.3,84.0,114.66666666,13.33333333,-71.58333333,-77.3963,-2.0,71.5,-9.5,-63.16666666,21.0,3.0,-60.96666666,25.0,54.0,-5.0,145.75,166.633333,24.0,24.0,-68.25,-23.0418,-97.0,133.0,144.78333333,-175.0,65.0,-59.0,166.91666666,-159.76666666,20.0,-12.0,14.81666666,19.0,12.45,2.25,103.8,14.3754,-61.2,168.0,100.0,9.53333333,-8.0,73.0,107.83333333,45.0,70.0,-5.0,100.0,-61.0,3.3464,125.91666666,-85.0,147.0,30.0,36.0,-56.0,-2.0,105.0,38.0,173.0,90.5,-70.66666666,-56.0,90.0,-59.53333333,127.0,-40.0,4.0,134.5,167.95,-37.0,122.0,77.0,120.0,-64.933333,-61.33333333,30.0,47.0,114.188,-172.33333333,-7.0,-130.1,-61.8,19.9,15.0,35.0,64.0,0.0,-176.2,32.0,-88.75,-5.72,-2.58333333,-172.0],\"marker\":{\"color\":\"#636efa\",\"size\":[8278737,226915,3714000,307150,6591600,24206636,1402112000,11792,869595,3280815,1701583,15893219,4255,1901548,65720,16655799,2142252,28435943,53771300,84339067,896444,1399491,9904608,100800,988002,840974,1160164,9537642,34813867,63903,5084300,9398861,2072,2416664,280904,108407721,5094114,19129955,5657000,5106622,40222503,1470,16743930,6825442,32866268,83992953,17643060,7275556,21919000,106766,219161,112519,4922,510713,13132792,30237,4314768,29825968,1331057,786559,632275,2540916,1775378,271960,6069,6871287,54409794,9216900,20250834,45376763,254541,45741000,32365998,18383956,115021,5458827,11890781,6908224,6031187,59308690,18754440,38005238,37950802,3194034,544,33938,55197,2881060,33691,4047200,2562,85032,4803269,1265740,38659,7976985,53192,366425,0,4270563,23503349,26545864,6486201,649342,11326616,212559409,686878,10715549,5379475,2961161,59734213,11673029,1207361,3278292,39244,11818618,400,17500657,19116209,10110116,67391582,51780579,31072945,5831404,40812,77265,155014,8654622,2077132,11193729,11402533,32971846,1967998,10698896,10305564,2225728,128932753,59554023,5530719,14862927,47351567,125836021,98462,2837743,2617820,16858333,83240525,400132,6927288,7132530,5352000,43849269,1402985,50882884,206139587,621718,29136808,437483,8917205,38718,393248,67215293,3000,5057677,13452,4829764,44700000,183629,19286123,9890400,36910558,57557,300,2351625,2794700,25987,555988,329484123,25687041,168783,105697,40218234,2563,10834,18100,9749763,4649660,2100126,16425859,451,12123198,5685807,525285,110947,59194,69799978,38137,4994724,540542,97338583,2963234,220892331,26378275,144104080,378243,0,1318442,6624554,8947027,102334403,10203140,3473727,20903278,16718971,114963583,119446,771612,10847904,586634,164689383,287371,25778815,56367,11555997,18092,2302,30,109581085,1380004385,273523621,106290,71991,12952209,27691019,7500700,198410,48865,56,97928,29458,10353442,31255435,34232050,1000,11750,44134693,397621,53192,62999,1411],\"sizemode\":\"area\",\"sizeref\":3505280.0,\"symbol\":\"circle\"},\"mode\":\"markers\",\"name\":\"\",\"showlegend\":false,\"type\":\"scattergeo\"}],                        {\"template\":{\"data\":{\"bar\":[{\"error_x\":{\"color\":\"#2a3f5f\"},\"error_y\":{\"color\":\"#2a3f5f\"},\"marker\":{\"line\":{\"color\":\"#E5ECF6\",\"width\":0.5},\"pattern\":{\"fillmode\":\"overlay\",\"size\":10,\"solidity\":0.2}},\"type\":\"bar\"}],\"barpolar\":[{\"marker\":{\"line\":{\"color\":\"#E5ECF6\",\"width\":0.5},\"pattern\":{\"fillmode\":\"overlay\",\"size\":10,\"solidity\":0.2}},\"type\":\"barpolar\"}],\"carpet\":[{\"aaxis\":{\"endlinecolor\":\"#2a3f5f\",\"gridcolor\":\"white\",\"linecolor\":\"white\",\"minorgridcolor\":\"white\",\"startlinecolor\":\"#2a3f5f\"},\"baxis\":{\"endlinecolor\":\"#2a3f5f\",\"gridcolor\":\"white\",\"linecolor\":\"white\",\"minorgridcolor\":\"white\",\"startlinecolor\":\"#2a3f5f\"},\"type\":\"carpet\"}],\"choropleth\":[{\"colorbar\":{\"outlinewidth\":0,\"ticks\":\"\"},\"type\":\"choropleth\"}],\"contour\":[{\"colorbar\":{\"outlinewidth\":0,\"ticks\":\"\"},\"colorscale\":[[0.0,\"#0d0887\"],[0.1111111111111111,\"#46039f\"],[0.2222222222222222,\"#7201a8\"],[0.3333333333333333,\"#9c179e\"],[0.4444444444444444,\"#bd3786\"],[0.5555555555555556,\"#d8576b\"],[0.6666666666666666,\"#ed7953\"],[0.7777777777777778,\"#fb9f3a\"],[0.8888888888888888,\"#fdca26\"],[1.0,\"#f0f921\"]],\"type\":\"contour\"}],\"contourcarpet\":[{\"colorbar\":{\"outlinewidth\":0,\"ticks\":\"\"},\"type\":\"contourcarpet\"}],\"heatmap\":[{\"colorbar\":{\"outlinewidth\":0,\"ticks\":\"\"},\"colorscale\":[[0.0,\"#0d0887\"],[0.1111111111111111,\"#46039f\"],[0.2222222222222222,\"#7201a8\"],[0.3333333333333333,\"#9c179e\"],[0.4444444444444444,\"#bd3786\"],[0.5555555555555556,\"#d8576b\"],[0.6666666666666666,\"#ed7953\"],[0.7777777777777778,\"#fb9f3a\"],[0.8888888888888888,\"#fdca26\"],[1.0,\"#f0f921\"]],\"type\":\"heatmap\"}],\"heatmapgl\":[{\"colorbar\":{\"outlinewidth\":0,\"ticks\":\"\"},\"colorscale\":[[0.0,\"#0d0887\"],[0.1111111111111111,\"#46039f\"],[0.2222222222222222,\"#7201a8\"],[0.3333333333333333,\"#9c179e\"],[0.4444444444444444,\"#bd3786\"],[0.5555555555555556,\"#d8576b\"],[0.6666666666666666,\"#ed7953\"],[0.7777777777777778,\"#fb9f3a\"],[0.8888888888888888,\"#fdca26\"],[1.0,\"#f0f921\"]],\"type\":\"heatmapgl\"}],\"histogram\":[{\"marker\":{\"pattern\":{\"fillmode\":\"overlay\",\"size\":10,\"solidity\":0.2}},\"type\":\"histogram\"}],\"histogram2d\":[{\"colorbar\":{\"outlinewidth\":0,\"ticks\":\"\"},\"colorscale\":[[0.0,\"#0d0887\"],[0.1111111111111111,\"#46039f\"],[0.2222222222222222,\"#7201a8\"],[0.3333333333333333,\"#9c179e\"],[0.4444444444444444,\"#bd3786\"],[0.5555555555555556,\"#d8576b\"],[0.6666666666666666,\"#ed7953\"],[0.7777777777777778,\"#fb9f3a\"],[0.8888888888888888,\"#fdca26\"],[1.0,\"#f0f921\"]],\"type\":\"histogram2d\"}],\"histogram2dcontour\":[{\"colorbar\":{\"outlinewidth\":0,\"ticks\":\"\"},\"colorscale\":[[0.0,\"#0d0887\"],[0.1111111111111111,\"#46039f\"],[0.2222222222222222,\"#7201a8\"],[0.3333333333333333,\"#9c179e\"],[0.4444444444444444,\"#bd3786\"],[0.5555555555555556,\"#d8576b\"],[0.6666666666666666,\"#ed7953\"],[0.7777777777777778,\"#fb9f3a\"],[0.8888888888888888,\"#fdca26\"],[1.0,\"#f0f921\"]],\"type\":\"histogram2dcontour\"}],\"mesh3d\":[{\"colorbar\":{\"outlinewidth\":0,\"ticks\":\"\"},\"type\":\"mesh3d\"}],\"parcoords\":[{\"line\":{\"colorbar\":{\"outlinewidth\":0,\"ticks\":\"\"}},\"type\":\"parcoords\"}],\"pie\":[{\"automargin\":true,\"type\":\"pie\"}],\"scatter\":[{\"marker\":{\"colorbar\":{\"outlinewidth\":0,\"ticks\":\"\"}},\"type\":\"scatter\"}],\"scatter3d\":[{\"line\":{\"colorbar\":{\"outlinewidth\":0,\"ticks\":\"\"}},\"marker\":{\"colorbar\":{\"outlinewidth\":0,\"ticks\":\"\"}},\"type\":\"scatter3d\"}],\"scattercarpet\":[{\"marker\":{\"colorbar\":{\"outlinewidth\":0,\"ticks\":\"\"}},\"type\":\"scattercarpet\"}],\"scattergeo\":[{\"marker\":{\"colorbar\":{\"outlinewidth\":0,\"ticks\":\"\"}},\"type\":\"scattergeo\"}],\"scattergl\":[{\"marker\":{\"colorbar\":{\"outlinewidth\":0,\"ticks\":\"\"}},\"type\":\"scattergl\"}],\"scattermapbox\":[{\"marker\":{\"colorbar\":{\"outlinewidth\":0,\"ticks\":\"\"}},\"type\":\"scattermapbox\"}],\"scatterpolar\":[{\"marker\":{\"colorbar\":{\"outlinewidth\":0,\"ticks\":\"\"}},\"type\":\"scatterpolar\"}],\"scatterpolargl\":[{\"marker\":{\"colorbar\":{\"outlinewidth\":0,\"ticks\":\"\"}},\"type\":\"scatterpolargl\"}],\"scatterternary\":[{\"marker\":{\"colorbar\":{\"outlinewidth\":0,\"ticks\":\"\"}},\"type\":\"scatterternary\"}],\"surface\":[{\"colorbar\":{\"outlinewidth\":0,\"ticks\":\"\"},\"colorscale\":[[0.0,\"#0d0887\"],[0.1111111111111111,\"#46039f\"],[0.2222222222222222,\"#7201a8\"],[0.3333333333333333,\"#9c179e\"],[0.4444444444444444,\"#bd3786\"],[0.5555555555555556,\"#d8576b\"],[0.6666666666666666,\"#ed7953\"],[0.7777777777777778,\"#fb9f3a\"],[0.8888888888888888,\"#fdca26\"],[1.0,\"#f0f921\"]],\"type\":\"surface\"}],\"table\":[{\"cells\":{\"fill\":{\"color\":\"#EBF0F8\"},\"line\":{\"color\":\"white\"}},\"header\":{\"fill\":{\"color\":\"#C8D4E3\"},\"line\":{\"color\":\"white\"}},\"type\":\"table\"}]},\"layout\":{\"annotationdefaults\":{\"arrowcolor\":\"#2a3f5f\",\"arrowhead\":0,\"arrowwidth\":1},\"autotypenumbers\":\"strict\",\"coloraxis\":{\"colorbar\":{\"outlinewidth\":0,\"ticks\":\"\"}},\"colorscale\":{\"diverging\":[[0,\"#8e0152\"],[0.1,\"#c51b7d\"],[0.2,\"#de77ae\"],[0.3,\"#f1b6da\"],[0.4,\"#fde0ef\"],[0.5,\"#f7f7f7\"],[0.6,\"#e6f5d0\"],[0.7,\"#b8e186\"],[0.8,\"#7fbc41\"],[0.9,\"#4d9221\"],[1,\"#276419\"]],\"sequential\":[[0.0,\"#0d0887\"],[0.1111111111111111,\"#46039f\"],[0.2222222222222222,\"#7201a8\"],[0.3333333333333333,\"#9c179e\"],[0.4444444444444444,\"#bd3786\"],[0.5555555555555556,\"#d8576b\"],[0.6666666666666666,\"#ed7953\"],[0.7777777777777778,\"#fb9f3a\"],[0.8888888888888888,\"#fdca26\"],[1.0,\"#f0f921\"]],\"sequentialminus\":[[0.0,\"#0d0887\"],[0.1111111111111111,\"#46039f\"],[0.2222222222222222,\"#7201a8\"],[0.3333333333333333,\"#9c179e\"],[0.4444444444444444,\"#bd3786\"],[0.5555555555555556,\"#d8576b\"],[0.6666666666666666,\"#ed7953\"],[0.7777777777777778,\"#fb9f3a\"],[0.8888888888888888,\"#fdca26\"],[1.0,\"#f0f921\"]]},\"colorway\":[\"#636efa\",\"#EF553B\",\"#00cc96\",\"#ab63fa\",\"#FFA15A\",\"#19d3f3\",\"#FF6692\",\"#B6E880\",\"#FF97FF\",\"#FECB52\"],\"font\":{\"color\":\"#2a3f5f\"},\"geo\":{\"bgcolor\":\"white\",\"lakecolor\":\"white\",\"landcolor\":\"#E5ECF6\",\"showlakes\":true,\"showland\":true,\"subunitcolor\":\"white\"},\"hoverlabel\":{\"align\":\"left\"},\"hovermode\":\"closest\",\"mapbox\":{\"style\":\"light\"},\"paper_bgcolor\":\"white\",\"plot_bgcolor\":\"#E5ECF6\",\"polar\":{\"angularaxis\":{\"gridcolor\":\"white\",\"linecolor\":\"white\",\"ticks\":\"\"},\"bgcolor\":\"#E5ECF6\",\"radialaxis\":{\"gridcolor\":\"white\",\"linecolor\":\"white\",\"ticks\":\"\"}},\"scene\":{\"xaxis\":{\"backgroundcolor\":\"#E5ECF6\",\"gridcolor\":\"white\",\"gridwidth\":2,\"linecolor\":\"white\",\"showbackground\":true,\"ticks\":\"\",\"zerolinecolor\":\"white\"},\"yaxis\":{\"backgroundcolor\":\"#E5ECF6\",\"gridcolor\":\"white\",\"gridwidth\":2,\"linecolor\":\"white\",\"showbackground\":true,\"ticks\":\"\",\"zerolinecolor\":\"white\"},\"zaxis\":{\"backgroundcolor\":\"#E5ECF6\",\"gridcolor\":\"white\",\"gridwidth\":2,\"linecolor\":\"white\",\"showbackground\":true,\"ticks\":\"\",\"zerolinecolor\":\"white\"}},\"shapedefaults\":{\"line\":{\"color\":\"#2a3f5f\"}},\"ternary\":{\"aaxis\":{\"gridcolor\":\"white\",\"linecolor\":\"white\",\"ticks\":\"\"},\"baxis\":{\"gridcolor\":\"white\",\"linecolor\":\"white\",\"ticks\":\"\"},\"bgcolor\":\"#E5ECF6\",\"caxis\":{\"gridcolor\":\"white\",\"linecolor\":\"white\",\"ticks\":\"\"}},\"title\":{\"x\":0.05},\"xaxis\":{\"automargin\":true,\"gridcolor\":\"white\",\"linecolor\":\"white\",\"ticks\":\"\",\"title\":{\"standoff\":15},\"zerolinecolor\":\"white\",\"zerolinewidth\":2},\"yaxis\":{\"automargin\":true,\"gridcolor\":\"white\",\"linecolor\":\"white\",\"ticks\":\"\",\"title\":{\"standoff\":15},\"zerolinecolor\":\"white\",\"zerolinewidth\":2}}},\"geo\":{\"domain\":{\"x\":[0.0,1.0],\"y\":[0.0,1.0]},\"projection\":{\"type\":\"natural earth\"},\"center\":{}},\"legend\":{\"tracegroupgap\":0,\"itemsizing\":\"constant\"},\"title\":{\"text\":\"\\ud83c\\udf0d Mapa Interativo de Pa\\u00edses e Popula\\u00e7\\u00e3o\"}},                        {\"responsive\": true}                    )                };                            </script>        </div>\n",
       "</body>\n",
       "</html>"
      ]
     },
     "metadata": {
      "application/vnd.databricks.v1+output": {
       "addedWidgets": {},
       "arguments": {},
       "data": "<html>\n<head><meta charset=\"utf-8\" /></head>\n<body>\n    <div>            <script src=\"https://cdnjs.cloudflare.com/ajax/libs/mathjax/2.7.5/MathJax.js?config=TeX-AMS-MML_SVG\"></script><script type=\"text/javascript\">if (window.MathJax) {MathJax.Hub.Config({SVG: {font: \"STIX-Web\"}});}</script>                <script type=\"text/javascript\">window.PlotlyConfig = {MathJaxConfig: 'local'};</script>\n        <script src=\"https://cdn.plot.ly/plotly-2.9.0.min.js\"></script>                <div id=\"52d769d1-ab7d-4fdd-b137-a919bb822132\" class=\"plotly-graph-div\" style=\"height:100%; width:100%;\"></div>            <script type=\"text/javascript\">                                    window.PLOTLYENV=window.PLOTLYENV || {};                                    if (document.getElementById(\"52d769d1-ab7d-4fdd-b137-a919bb822132\")) {                    Plotly.newPlot(                        \"52d769d1-ab7d-4fdd-b137-a919bb822132\",                        [{\"customdata\":[[\"Lom\\u00e9\",8278737],[\"Mamoudzou\",226915],[\"Tbilisi\",3714000],[\"Port Vila\",307150],[\"Bishkek\",6591600],[\"Niamey\",24206636],[\"Beijing\",1402112000],[\"Funafuti\",11792],[\"Moroni\",869595],[\"Sarajevo\",3280815],[\"Manama\",1701583],[\"Mogadishu\",15893219],[\"Gustavia\",4255],[\"Riga\",1901548],[\"George Town\",65720],[\"Amsterdam\",16655799],[\"Maseru\",2142252],[\"Caracas\",28435943],[\"Nairobi\",53771300],[\"Ankara\",84339067],[\"Suva\",896444],[\"Port of Spain\",1399491],[\"Tegucigalpa\",9904608],[\"Saint Helier\",100800],[\"Djibouti\",988002],[\"Saint-Denis\",840974],[\"Mbabane\",1160164],[\"Dushanbe\",9537642],[\"Riyadh\",34813867],[\"Hamilton\",63903],[\"Wellington\",5084300],[\"Minsk\",9398861],[\"Flying Fish Cove\",2072],[\"Banjul\",2416664],[\"Papeet\\u0113\",280904],[\"Kinshasa\",108407721],[\"San Jos\\u00e9\",5094114],[\"Lilongwe\",19129955],[\"Brazzaville\",5657000],[\"Muscat\",5106622],[\"Baghdad\",40222503],[\"Alofi\",1470],[\"Dakar\",16743930],[\"Beirut\",6825442],[\"Luanda\",32866268],[\"Tehran\",83992953],[\"Quito\",17643060],[\"Vientiane\",7275556],[\"Sri Jayawardenepura Kotte\",21919000],[\"Oranjestad\",106766],[\"S\\u00e3o Tom\\u00e9\",219161],[\"St. George's\",112519],[\"Plymouth\",4922],[\"El Aai\\u00fan\",510713],[\"Conakry\",13132792],[\"Road Town\",30237],[\"Panama City\",4314768],[\"Sana'a\",29825968],[\"Tallinn\",1331057],[\"Georgetown\",786559],[\"Luxembourg\",632275],[\"Windhoek\",2540916],[\"Pristina\",1775378],[\"Noum\\u00e9a\",271960],[\"Saint-Pierre\",6069],[\"Tripoli\",6871287],[\"Naypyidaw\",54409794],[\"Jerusalem\",9216900],[\"Bamako\",20250834],[\"Buenos Aires\",45376763],[\"Cayenne\",254541],[\"Kampala\",45741000],[\"Kuala Lumpur\",32365998],[\"Lusaka\",18383956],[\"Palikir\",115021],[\"Bratislava\",5458827],[\"Gitega\",11890781],[\"Belgrade\",6908224],[\"Ashgabat\",6031187],[\"Pretoria\",59308690],[\"Astana\",18754440],[\"Ottawa\",38005238],[\"Warsaw\",37950802],[\"San Juan\",3194034],[\"West Island\",544],[\"City of San Marino\",33938],[\"Pago Pago\",55197],[\"Doha\",2881060],[\"Gibraltar\",33691],[\"Zagreb\",4047200],[\"Longyearbyen\",2562],[\"Douglas\",85032],[\"Ramallah\",4803269],[\"Port Louis\",1265740],[\"Marigot\",38659],[\"Freetown\",7976985],[\"Basseterre\",53192],[\"Reykjavik\",366425],[\"N/A\",0],[\"Kuwait City\",4270563],[\"Taipei\",23503349],[\"Yaound\\u00e9\",26545864],[\"San Salvador\",6486201],[\"N/A\",649342],[\"Havana\",11326616],[\"Bras\\u00edlia\",212559409],[\"Honiara\",686878],[\"Athens\",10715549],[\"Oslo\",5379475],[\"Kingston\",2961161],[\"Dodoma\",59734213],[\"Sucre\",11673029],[\"Nicosia\",1207361],[\"Ulan Bator\",3278292],[\"Monaco\",39244],[\"Tunis\",11818618],[\"Port-aux-Fran\\u00e7ais\",400],[\"Damascus\",17500657],[\"Santiago\",19116209],[\"Baku\",10110116],[\"Paris\",67391582],[\"Seoul\",51780579],[\"Accra\",31072945],[\"Copenhagen\",5831404],[\"Philipsburg\",40812],[\"Andorra la Vella\",77265],[\"Willemstad\",155014],[\"Bern\",8654622],[\"Skopje\",2077132],[\"Juba\",11193729],[\"Port-au-Prince\",11402533],[\"Lima\",32971846],[\"Bissau\",1967998],[\"Prague\",10698896],[\"Lisbon\",10305564],[\"Libreville\",2225728],[\"Mexico City\",128932753],[\"Rome\",59554023],[\"Helsinki\",5530719],[\"Harare\",14862927],[\"Madrid\",47351567],[\"Tokyo\",125836021],[\"Victoria\",98462],[\"Tirana\",2837743],[\"Chi\\u0219in\\u0103u\",2617820],[\"Guatemala City\",16858333],[\"Berlin\",83240525],[\"Basse-Terre\",400132],[\"Sofia\",6927288],[\"Asunci\\u00f3n\",7132530],[\"Asmara\",5352000],[\"Khartoum\",43849269],[\"Malabo\",1402985],[\"Bogot\\u00e1\",50882884],[\"Abuja\",206139587],[\"Podgorica\",621718],[\"Kathmandu\",29136808],[\"Bandar Seri Begawan\",437483],[\"Vienna\",8917205],[\"Cockburn Town\",38718],[\"Nassau\",393248],[\"London\",67215293],[\"Diego Garcia\",3000],[\"Monrovia\",5057677],[\"The Valley\",13452],[\"Bangui\",4829764],[\"Algiers\",44700000],[\"Castries\",183629],[\"Bucharest\",19286123],[\"Abu Dhabi\",9890400],[\"Rabat\",36910558],[\"Saipan\",57557],[\"Washington DC\",300],[\"Gaborone\",2351625],[\"Vilnius\",2794700],[\"Kralendijk\",25987],[\"Praia\",555988],[\"Washington, D.C.\",329484123],[\"Canberra\",25687041],[\"Hag\\u00e5t\\u00f1a\",168783],[\"Nuku'alofa\",105697],[\"Kabul\",40218234],[\"Stanley\",2563],[\"Yaren\",10834],[\"Avarua\",18100],[\"Budapest\",9749763],[\"Nouakchott\",4649660],[\"Ljubljana\",2100126],[\"N'Djamena\",16425859],[\"Vatican City\",451],[\"Porto-Novo\",12123198],[\"Singapore\",5685807],[\"Valletta\",525285],[\"Kingstown\",110947],[\"Majuro\",59194],[\"Bangkok\",69799978],[\"Vaduz\",38137],[\"Dublin\",4994724],[\"Mal\\u00e9\",540542],[\"Hanoi\",97338583],[\"Yerevan\",2963234],[\"Islamabad\",220892331],[\"Yamoussoukro\",26378275],[\"Moscow\",144104080],[\"Fort-de-France\",378243],[\"N/A\",0],[\"Dili\",1318442],[\"Managua\",6624554],[\"Port Moresby\",8947027],[\"Cairo\",102334403],[\"Amman\",10203140],[\"Montevideo\",3473727],[\"Ouagadougou\",20903278],[\"Phnom Penh\",16718971],[\"Addis Ababa\",114963583],[\"South Tarawa\",119446],[\"Thimphu\",771612],[\"Santo Domingo\",10847904],[\"Paramaribo\",586634],[\"Dhaka\",164689383],[\"Bridgetown\",287371],[\"Pyongyang\",25778815],[\"Nuuk\",56367],[\"Brussels\",11555997],[\"Ngerulmud\",18092],[\"Kingston\",2302],[\"King Edward Point\",30],[\"Manila\",109581085],[\"New Delhi\",1380004385],[\"Jakarta\",273523621],[\"Charlotte Amalie\",106290],[\"Roseau\",71991],[\"Kigali\",12952209],[\"Antananarivo\",27691019],[\"City of Victoria\",7500700],[\"Apia\",198410],[\"T\\u00f3rshavn\",48865],[\"Adamstown\",56],[\"Saint John's\",97928],[\"Mariehamn\",29458],[\"Stockholm\",10353442],[\"Maputo\",31255435],[\"Tashkent\",34232050],[\"N/A\",1000],[\"Mata-Utu\",11750],[\"Kyiv\",44134693],[\"Belmopan\",397621],[\"Jamestown\",53192],[\"St. Peter Port\",62999],[\"Fakaofo\",1411]],\"geo\":\"geo\",\"hovertemplate\":\"<b>%{hovertext}</b><br><br>population=%{customdata[1]}<br>latitude=%{lat}<br>longitude=%{lon}<br>capital=%{customdata[0]}<extra></extra>\",\"hovertext\":[\"Togo\",\"Mayotte\",\"Georgia\",\"Vanuatu\",\"Kyrgyzstan\",\"Niger\",\"China\",\"Tuvalu\",\"Comoros\",\"Bosnia and Herzegovina\",\"Bahrain\",\"Somalia\",\"Saint Barth\\u00e9lemy\",\"Latvia\",\"Cayman Islands\",\"Netherlands\",\"Lesotho\",\"Venezuela\",\"Kenya\",\"Turkey\",\"Fiji\",\"Trinidad and Tobago\",\"Honduras\",\"Jersey\",\"Djibouti\",\"R\\u00e9union\",\"Eswatini\",\"Tajikistan\",\"Saudi Arabia\",\"Bermuda\",\"New Zealand\",\"Belarus\",\"Christmas Island\",\"Gambia\",\"French Polynesia\",\"DR Congo\",\"Costa Rica\",\"Malawi\",\"Republic of the Congo\",\"Oman\",\"Iraq\",\"Niue\",\"Senegal\",\"Lebanon\",\"Angola\",\"Iran\",\"Ecuador\",\"Laos\",\"Sri Lanka\",\"Aruba\",\"S\\u00e3o Tom\\u00e9 and Pr\\u00edncipe\",\"Grenada\",\"Montserrat\",\"Western Sahara\",\"Guinea\",\"British Virgin Islands\",\"Panama\",\"Yemen\",\"Estonia\",\"Guyana\",\"Luxembourg\",\"Namibia\",\"Kosovo\",\"New Caledonia\",\"Saint Pierre and Miquelon\",\"Libya\",\"Myanmar\",\"Israel\",\"Mali\",\"Argentina\",\"French Guiana\",\"Uganda\",\"Malaysia\",\"Zambia\",\"Micronesia\",\"Slovakia\",\"Burundi\",\"Serbia\",\"Turkmenistan\",\"South Africa\",\"Kazakhstan\",\"Canada\",\"Poland\",\"Puerto Rico\",\"Cocos (Keeling) Islands\",\"San Marino\",\"American Samoa\",\"Qatar\",\"Gibraltar\",\"Croatia\",\"Svalbard and Jan Mayen\",\"Isle of Man\",\"Palestine\",\"Mauritius\",\"Saint Martin\",\"Sierra Leone\",\"Saint Kitts and Nevis\",\"Iceland\",\"Heard Island and McDonald Islands\",\"Kuwait\",\"Taiwan\",\"Cameroon\",\"El Salvador\",\"Macau\",\"Cuba\",\"Brazil\",\"Solomon Islands\",\"Greece\",\"Norway\",\"Jamaica\",\"Tanzania\",\"Bolivia\",\"Cyprus\",\"Mongolia\",\"Monaco\",\"Tunisia\",\"French Southern and Antarctic Lands\",\"Syria\",\"Chile\",\"Azerbaijan\",\"France\",\"South Korea\",\"Ghana\",\"Denmark\",\"Sint Maarten\",\"Andorra\",\"Cura\\u00e7ao\",\"Switzerland\",\"North Macedonia\",\"South Sudan\",\"Haiti\",\"Peru\",\"Guinea-Bissau\",\"Czechia\",\"Portugal\",\"Gabon\",\"Mexico\",\"Italy\",\"Finland\",\"Zimbabwe\",\"Spain\",\"Japan\",\"Seychelles\",\"Albania\",\"Moldova\",\"Guatemala\",\"Germany\",\"Guadeloupe\",\"Bulgaria\",\"Paraguay\",\"Eritrea\",\"Sudan\",\"Equatorial Guinea\",\"Colombia\",\"Nigeria\",\"Montenegro\",\"Nepal\",\"Brunei\",\"Austria\",\"Turks and Caicos Islands\",\"Bahamas\",\"United Kingdom\",\"British Indian Ocean Territory\",\"Liberia\",\"Anguilla\",\"Central African Republic\",\"Algeria\",\"Saint Lucia\",\"Romania\",\"United Arab Emirates\",\"Morocco\",\"Northern Mariana Islands\",\"United States Minor Outlying Islands\",\"Botswana\",\"Lithuania\",\"Caribbean Netherlands\",\"Cape Verde\",\"United States\",\"Australia\",\"Guam\",\"Tonga\",\"Afghanistan\",\"Falkland Islands\",\"Nauru\",\"Cook Islands\",\"Hungary\",\"Mauritania\",\"Slovenia\",\"Chad\",\"Vatican City\",\"Benin\",\"Singapore\",\"Malta\",\"Saint Vincent and the Grenadines\",\"Marshall Islands\",\"Thailand\",\"Liechtenstein\",\"Ireland\",\"Maldives\",\"Vietnam\",\"Armenia\",\"Pakistan\",\"Ivory Coast\",\"Russia\",\"Martinique\",\"Bouvet Island\",\"Timor-Leste\",\"Nicaragua\",\"Papua New Guinea\",\"Egypt\",\"Jordan\",\"Uruguay\",\"Burkina Faso\",\"Cambodia\",\"Ethiopia\",\"Kiribati\",\"Bhutan\",\"Dominican Republic\",\"Suriname\",\"Bangladesh\",\"Barbados\",\"North Korea\",\"Greenland\",\"Belgium\",\"Palau\",\"Norfolk Island\",\"South Georgia\",\"Philippines\",\"India\",\"Indonesia\",\"United States Virgin Islands\",\"Dominica\",\"Rwanda\",\"Madagascar\",\"Hong Kong\",\"Samoa\",\"Faroe Islands\",\"Pitcairn Islands\",\"Antigua and Barbuda\",\"\\u00c5land Islands\",\"Sweden\",\"Mozambique\",\"Uzbekistan\",\"Antarctica\",\"Wallis and Futuna\",\"Ukraine\",\"Belize\",\"Saint Helena, Ascension and Tristan da Cunha\",\"Guernsey\",\"Tokelau\"],\"lat\":[8.0,-12.83333333,42.0,-16.0,41.0,16.0,35.0,-8.0,-12.16666666,44.0,26.0,10.0,18.5,57.0,19.3133,52.5,-29.5,8.0,1.0,39.0,-17.7134,10.6918,15.0,49.25,11.5,-21.15,-26.5,39.0,25.0,32.33333333,-41.0,53.0,-10.5,13.46666666,-17.6797,0.0,10.0,-13.5,-1.0,21.0,33.0,-19.03333333,14.0,33.83333333,-12.5,32.0,-2.0,18.0,7.0,12.5,1.0,12.11666666,16.75,24.5,11.0,18.431383,9.0,15.0,59.0,5.0,49.75,-22.0,42.666667,-21.5,46.83333333,25.0,22.0,31.47,17.0,-34.0,4.0,1.0,2.5,-15.0,6.91666666,48.66666666,-3.5,44.0,40.0,-29.0,48.0196,60.0,52.0,18.25,-12.1642,43.76666666,-14.33333333,25.5,36.13333333,45.16666666,78.0,54.25,31.9,-20.28333333,18.0708,8.5,17.33333333,65.0,-53.0818,29.5,23.5,6.0,13.83333333,22.16666666,21.5,-10.0,-8.0,39.0,62.0,18.25,-6.0,-17.0,35.0,46.0,43.73333333,34.0,-49.25,35.0,-30.0,40.5,46.0,37.0,8.0,56.0,18.033333,42.5,12.116667,47.0,41.83333333,7.0,19.0,-10.0,12.0,49.75,39.5,-1.0,23.0,42.83333333,64.0,-20.0,40.0,36.0,-4.58333333,41.0,47.0,15.5,51.0,16.25,43.0,-23.0,15.0,15.0,2.0,4.0,10.0,42.5,28.0,4.5,47.33333333,21.75,25.0343,54.0,-6.0,6.5,18.25,7.0,28.0,13.88333333,46.0,24.0,32.0,15.2,19.3,-22.0,56.0,12.18,16.5388,38.0,-27.0,13.46666666,-20.0,33.0,-51.75,-0.53333333,-21.23333333,47.0,20.0,46.11666666,15.0,41.9,9.5,1.36666666,35.9375,13.25,9.0,15.0,47.26666666,53.0,3.25,16.16666666,40.0,30.0,8.0,60.0,14.666667,54.4208,-8.83333333,13.0,-6.0,27.0,31.0,-33.0,13.0,13.0,8.0,1.41666666,27.5,19.0,4.0,24.0,13.16666666,40.0,72.0,50.83333333,7.5,-29.03333333,-54.5,13.0,20.0,-5.0,18.35,15.41666666,-2.0,-20.0,22.267,-13.58333333,62.0,-25.06666666,17.05,60.116667,62.0,-18.25,41.0,-90.0,-13.3,49.0,17.25,-15.95,49.46666666,-9.0],\"legendgroup\":\"\",\"lon\":[1.16666666,45.16666666,43.5,167.0,75.0,8.0,105.0,178.0,44.25,18.0,50.55,49.0,-63.41666666,25.0,-81.2546,5.75,28.5,-66.0,38.0,35.0,178.065,-61.2225,-86.5,-2.16666666,43.0,55.5,31.5,71.0,45.0,-64.75,174.0,28.0,105.66666666,-16.56666666,-149.4068,25.0,-84.0,34.0,15.0,57.0,44.0,-169.86666666,-14.0,35.83333333,18.5,53.0,-77.5,105.0,81.0,-69.96666666,7.0,-61.66666666,-62.2,-13.0,-10.0,-64.62305,-80.0,48.0,26.0,-59.0,6.16666666,17.0,21.166667,165.5,-56.33333333,17.0,98.0,35.13,-4.0,-64.0,-53.0,32.0,112.5,30.0,158.25,19.5,30.0,21.0,60.0,24.0,66.9237,-95.0,20.0,-66.5,96.871,12.41666666,-170.0,51.25,-5.35,15.5,20.0,-4.5,35.2,57.55,-63.0501,-11.5,-62.75,-18.0,73.5042,45.75,121.0,12.0,-88.91666666,113.55,-80.0,-55.0,159.0,22.0,10.0,-77.5,35.0,-65.0,33.0,105.0,7.4,9.0,69.167,38.0,-71.0,47.5,2.0,127.5,-2.0,10.0,-63.05,1.5,-68.933333,8.0,22.0,30.0,-72.41666666,-76.0,-15.0,15.5,-8.0,11.75,-102.0,12.83333333,26.0,30.0,-4.0,138.0,55.66666666,20.0,29.0,-90.25,9.0,-61.583333,25.0,-58.0,39.0,30.0,10.0,-72.0,8.0,19.3,84.0,114.66666666,13.33333333,-71.58333333,-77.3963,-2.0,71.5,-9.5,-63.16666666,21.0,3.0,-60.96666666,25.0,54.0,-5.0,145.75,166.633333,24.0,24.0,-68.25,-23.0418,-97.0,133.0,144.78333333,-175.0,65.0,-59.0,166.91666666,-159.76666666,20.0,-12.0,14.81666666,19.0,12.45,2.25,103.8,14.3754,-61.2,168.0,100.0,9.53333333,-8.0,73.0,107.83333333,45.0,70.0,-5.0,100.0,-61.0,3.3464,125.91666666,-85.0,147.0,30.0,36.0,-56.0,-2.0,105.0,38.0,173.0,90.5,-70.66666666,-56.0,90.0,-59.53333333,127.0,-40.0,4.0,134.5,167.95,-37.0,122.0,77.0,120.0,-64.933333,-61.33333333,30.0,47.0,114.188,-172.33333333,-7.0,-130.1,-61.8,19.9,15.0,35.0,64.0,0.0,-176.2,32.0,-88.75,-5.72,-2.58333333,-172.0],\"marker\":{\"color\":\"#636efa\",\"size\":[8278737,226915,3714000,307150,6591600,24206636,1402112000,11792,869595,3280815,1701583,15893219,4255,1901548,65720,16655799,2142252,28435943,53771300,84339067,896444,1399491,9904608,100800,988002,840974,1160164,9537642,34813867,63903,5084300,9398861,2072,2416664,280904,108407721,5094114,19129955,5657000,5106622,40222503,1470,16743930,6825442,32866268,83992953,17643060,7275556,21919000,106766,219161,112519,4922,510713,13132792,30237,4314768,29825968,1331057,786559,632275,2540916,1775378,271960,6069,6871287,54409794,9216900,20250834,45376763,254541,45741000,32365998,18383956,115021,5458827,11890781,6908224,6031187,59308690,18754440,38005238,37950802,3194034,544,33938,55197,2881060,33691,4047200,2562,85032,4803269,1265740,38659,7976985,53192,366425,0,4270563,23503349,26545864,6486201,649342,11326616,212559409,686878,10715549,5379475,2961161,59734213,11673029,1207361,3278292,39244,11818618,400,17500657,19116209,10110116,67391582,51780579,31072945,5831404,40812,77265,155014,8654622,2077132,11193729,11402533,32971846,1967998,10698896,10305564,2225728,128932753,59554023,5530719,14862927,47351567,125836021,98462,2837743,2617820,16858333,83240525,400132,6927288,7132530,5352000,43849269,1402985,50882884,206139587,621718,29136808,437483,8917205,38718,393248,67215293,3000,5057677,13452,4829764,44700000,183629,19286123,9890400,36910558,57557,300,2351625,2794700,25987,555988,329484123,25687041,168783,105697,40218234,2563,10834,18100,9749763,4649660,2100126,16425859,451,12123198,5685807,525285,110947,59194,69799978,38137,4994724,540542,97338583,2963234,220892331,26378275,144104080,378243,0,1318442,6624554,8947027,102334403,10203140,3473727,20903278,16718971,114963583,119446,771612,10847904,586634,164689383,287371,25778815,56367,11555997,18092,2302,30,109581085,1380004385,273523621,106290,71991,12952209,27691019,7500700,198410,48865,56,97928,29458,10353442,31255435,34232050,1000,11750,44134693,397621,53192,62999,1411],\"sizemode\":\"area\",\"sizeref\":3505280.0,\"symbol\":\"circle\"},\"mode\":\"markers\",\"name\":\"\",\"showlegend\":false,\"type\":\"scattergeo\"}],                        {\"template\":{\"data\":{\"bar\":[{\"error_x\":{\"color\":\"#2a3f5f\"},\"error_y\":{\"color\":\"#2a3f5f\"},\"marker\":{\"line\":{\"color\":\"#E5ECF6\",\"width\":0.5},\"pattern\":{\"fillmode\":\"overlay\",\"size\":10,\"solidity\":0.2}},\"type\":\"bar\"}],\"barpolar\":[{\"marker\":{\"line\":{\"color\":\"#E5ECF6\",\"width\":0.5},\"pattern\":{\"fillmode\":\"overlay\",\"size\":10,\"solidity\":0.2}},\"type\":\"barpolar\"}],\"carpet\":[{\"aaxis\":{\"endlinecolor\":\"#2a3f5f\",\"gridcolor\":\"white\",\"linecolor\":\"white\",\"minorgridcolor\":\"white\",\"startlinecolor\":\"#2a3f5f\"},\"baxis\":{\"endlinecolor\":\"#2a3f5f\",\"gridcolor\":\"white\",\"linecolor\":\"white\",\"minorgridcolor\":\"white\",\"startlinecolor\":\"#2a3f5f\"},\"type\":\"carpet\"}],\"choropleth\":[{\"colorbar\":{\"outlinewidth\":0,\"ticks\":\"\"},\"type\":\"choropleth\"}],\"contour\":[{\"colorbar\":{\"outlinewidth\":0,\"ticks\":\"\"},\"colorscale\":[[0.0,\"#0d0887\"],[0.1111111111111111,\"#46039f\"],[0.2222222222222222,\"#7201a8\"],[0.3333333333333333,\"#9c179e\"],[0.4444444444444444,\"#bd3786\"],[0.5555555555555556,\"#d8576b\"],[0.6666666666666666,\"#ed7953\"],[0.7777777777777778,\"#fb9f3a\"],[0.8888888888888888,\"#fdca26\"],[1.0,\"#f0f921\"]],\"type\":\"contour\"}],\"contourcarpet\":[{\"colorbar\":{\"outlinewidth\":0,\"ticks\":\"\"},\"type\":\"contourcarpet\"}],\"heatmap\":[{\"colorbar\":{\"outlinewidth\":0,\"ticks\":\"\"},\"colorscale\":[[0.0,\"#0d0887\"],[0.1111111111111111,\"#46039f\"],[0.2222222222222222,\"#7201a8\"],[0.3333333333333333,\"#9c179e\"],[0.4444444444444444,\"#bd3786\"],[0.5555555555555556,\"#d8576b\"],[0.6666666666666666,\"#ed7953\"],[0.7777777777777778,\"#fb9f3a\"],[0.8888888888888888,\"#fdca26\"],[1.0,\"#f0f921\"]],\"type\":\"heatmap\"}],\"heatmapgl\":[{\"colorbar\":{\"outlinewidth\":0,\"ticks\":\"\"},\"colorscale\":[[0.0,\"#0d0887\"],[0.1111111111111111,\"#46039f\"],[0.2222222222222222,\"#7201a8\"],[0.3333333333333333,\"#9c179e\"],[0.4444444444444444,\"#bd3786\"],[0.5555555555555556,\"#d8576b\"],[0.6666666666666666,\"#ed7953\"],[0.7777777777777778,\"#fb9f3a\"],[0.8888888888888888,\"#fdca26\"],[1.0,\"#f0f921\"]],\"type\":\"heatmapgl\"}],\"histogram\":[{\"marker\":{\"pattern\":{\"fillmode\":\"overlay\",\"size\":10,\"solidity\":0.2}},\"type\":\"histogram\"}],\"histogram2d\":[{\"colorbar\":{\"outlinewidth\":0,\"ticks\":\"\"},\"colorscale\":[[0.0,\"#0d0887\"],[0.1111111111111111,\"#46039f\"],[0.2222222222222222,\"#7201a8\"],[0.3333333333333333,\"#9c179e\"],[0.4444444444444444,\"#bd3786\"],[0.5555555555555556,\"#d8576b\"],[0.6666666666666666,\"#ed7953\"],[0.7777777777777778,\"#fb9f3a\"],[0.8888888888888888,\"#fdca26\"],[1.0,\"#f0f921\"]],\"type\":\"histogram2d\"}],\"histogram2dcontour\":[{\"colorbar\":{\"outlinewidth\":0,\"ticks\":\"\"},\"colorscale\":[[0.0,\"#0d0887\"],[0.1111111111111111,\"#46039f\"],[0.2222222222222222,\"#7201a8\"],[0.3333333333333333,\"#9c179e\"],[0.4444444444444444,\"#bd3786\"],[0.5555555555555556,\"#d8576b\"],[0.6666666666666666,\"#ed7953\"],[0.7777777777777778,\"#fb9f3a\"],[0.8888888888888888,\"#fdca26\"],[1.0,\"#f0f921\"]],\"type\":\"histogram2dcontour\"}],\"mesh3d\":[{\"colorbar\":{\"outlinewidth\":0,\"ticks\":\"\"},\"type\":\"mesh3d\"}],\"parcoords\":[{\"line\":{\"colorbar\":{\"outlinewidth\":0,\"ticks\":\"\"}},\"type\":\"parcoords\"}],\"pie\":[{\"automargin\":true,\"type\":\"pie\"}],\"scatter\":[{\"marker\":{\"colorbar\":{\"outlinewidth\":0,\"ticks\":\"\"}},\"type\":\"scatter\"}],\"scatter3d\":[{\"line\":{\"colorbar\":{\"outlinewidth\":0,\"ticks\":\"\"}},\"marker\":{\"colorbar\":{\"outlinewidth\":0,\"ticks\":\"\"}},\"type\":\"scatter3d\"}],\"scattercarpet\":[{\"marker\":{\"colorbar\":{\"outlinewidth\":0,\"ticks\":\"\"}},\"type\":\"scattercarpet\"}],\"scattergeo\":[{\"marker\":{\"colorbar\":{\"outlinewidth\":0,\"ticks\":\"\"}},\"type\":\"scattergeo\"}],\"scattergl\":[{\"marker\":{\"colorbar\":{\"outlinewidth\":0,\"ticks\":\"\"}},\"type\":\"scattergl\"}],\"scattermapbox\":[{\"marker\":{\"colorbar\":{\"outlinewidth\":0,\"ticks\":\"\"}},\"type\":\"scattermapbox\"}],\"scatterpolar\":[{\"marker\":{\"colorbar\":{\"outlinewidth\":0,\"ticks\":\"\"}},\"type\":\"scatterpolar\"}],\"scatterpolargl\":[{\"marker\":{\"colorbar\":{\"outlinewidth\":0,\"ticks\":\"\"}},\"type\":\"scatterpolargl\"}],\"scatterternary\":[{\"marker\":{\"colorbar\":{\"outlinewidth\":0,\"ticks\":\"\"}},\"type\":\"scatterternary\"}],\"surface\":[{\"colorbar\":{\"outlinewidth\":0,\"ticks\":\"\"},\"colorscale\":[[0.0,\"#0d0887\"],[0.1111111111111111,\"#46039f\"],[0.2222222222222222,\"#7201a8\"],[0.3333333333333333,\"#9c179e\"],[0.4444444444444444,\"#bd3786\"],[0.5555555555555556,\"#d8576b\"],[0.6666666666666666,\"#ed7953\"],[0.7777777777777778,\"#fb9f3a\"],[0.8888888888888888,\"#fdca26\"],[1.0,\"#f0f921\"]],\"type\":\"surface\"}],\"table\":[{\"cells\":{\"fill\":{\"color\":\"#EBF0F8\"},\"line\":{\"color\":\"white\"}},\"header\":{\"fill\":{\"color\":\"#C8D4E3\"},\"line\":{\"color\":\"white\"}},\"type\":\"table\"}]},\"layout\":{\"annotationdefaults\":{\"arrowcolor\":\"#2a3f5f\",\"arrowhead\":0,\"arrowwidth\":1},\"autotypenumbers\":\"strict\",\"coloraxis\":{\"colorbar\":{\"outlinewidth\":0,\"ticks\":\"\"}},\"colorscale\":{\"diverging\":[[0,\"#8e0152\"],[0.1,\"#c51b7d\"],[0.2,\"#de77ae\"],[0.3,\"#f1b6da\"],[0.4,\"#fde0ef\"],[0.5,\"#f7f7f7\"],[0.6,\"#e6f5d0\"],[0.7,\"#b8e186\"],[0.8,\"#7fbc41\"],[0.9,\"#4d9221\"],[1,\"#276419\"]],\"sequential\":[[0.0,\"#0d0887\"],[0.1111111111111111,\"#46039f\"],[0.2222222222222222,\"#7201a8\"],[0.3333333333333333,\"#9c179e\"],[0.4444444444444444,\"#bd3786\"],[0.5555555555555556,\"#d8576b\"],[0.6666666666666666,\"#ed7953\"],[0.7777777777777778,\"#fb9f3a\"],[0.8888888888888888,\"#fdca26\"],[1.0,\"#f0f921\"]],\"sequentialminus\":[[0.0,\"#0d0887\"],[0.1111111111111111,\"#46039f\"],[0.2222222222222222,\"#7201a8\"],[0.3333333333333333,\"#9c179e\"],[0.4444444444444444,\"#bd3786\"],[0.5555555555555556,\"#d8576b\"],[0.6666666666666666,\"#ed7953\"],[0.7777777777777778,\"#fb9f3a\"],[0.8888888888888888,\"#fdca26\"],[1.0,\"#f0f921\"]]},\"colorway\":[\"#636efa\",\"#EF553B\",\"#00cc96\",\"#ab63fa\",\"#FFA15A\",\"#19d3f3\",\"#FF6692\",\"#B6E880\",\"#FF97FF\",\"#FECB52\"],\"font\":{\"color\":\"#2a3f5f\"},\"geo\":{\"bgcolor\":\"white\",\"lakecolor\":\"white\",\"landcolor\":\"#E5ECF6\",\"showlakes\":true,\"showland\":true,\"subunitcolor\":\"white\"},\"hoverlabel\":{\"align\":\"left\"},\"hovermode\":\"closest\",\"mapbox\":{\"style\":\"light\"},\"paper_bgcolor\":\"white\",\"plot_bgcolor\":\"#E5ECF6\",\"polar\":{\"angularaxis\":{\"gridcolor\":\"white\",\"linecolor\":\"white\",\"ticks\":\"\"},\"bgcolor\":\"#E5ECF6\",\"radialaxis\":{\"gridcolor\":\"white\",\"linecolor\":\"white\",\"ticks\":\"\"}},\"scene\":{\"xaxis\":{\"backgroundcolor\":\"#E5ECF6\",\"gridcolor\":\"white\",\"gridwidth\":2,\"linecolor\":\"white\",\"showbackground\":true,\"ticks\":\"\",\"zerolinecolor\":\"white\"},\"yaxis\":{\"backgroundcolor\":\"#E5ECF6\",\"gridcolor\":\"white\",\"gridwidth\":2,\"linecolor\":\"white\",\"showbackground\":true,\"ticks\":\"\",\"zerolinecolor\":\"white\"},\"zaxis\":{\"backgroundcolor\":\"#E5ECF6\",\"gridcolor\":\"white\",\"gridwidth\":2,\"linecolor\":\"white\",\"showbackground\":true,\"ticks\":\"\",\"zerolinecolor\":\"white\"}},\"shapedefaults\":{\"line\":{\"color\":\"#2a3f5f\"}},\"ternary\":{\"aaxis\":{\"gridcolor\":\"white\",\"linecolor\":\"white\",\"ticks\":\"\"},\"baxis\":{\"gridcolor\":\"white\",\"linecolor\":\"white\",\"ticks\":\"\"},\"bgcolor\":\"#E5ECF6\",\"caxis\":{\"gridcolor\":\"white\",\"linecolor\":\"white\",\"ticks\":\"\"}},\"title\":{\"x\":0.05},\"xaxis\":{\"automargin\":true,\"gridcolor\":\"white\",\"linecolor\":\"white\",\"ticks\":\"\",\"title\":{\"standoff\":15},\"zerolinecolor\":\"white\",\"zerolinewidth\":2},\"yaxis\":{\"automargin\":true,\"gridcolor\":\"white\",\"linecolor\":\"white\",\"ticks\":\"\",\"title\":{\"standoff\":15},\"zerolinecolor\":\"white\",\"zerolinewidth\":2}}},\"geo\":{\"domain\":{\"x\":[0.0,1.0],\"y\":[0.0,1.0]},\"projection\":{\"type\":\"natural earth\"},\"center\":{}},\"legend\":{\"tracegroupgap\":0,\"itemsizing\":\"constant\"},\"title\":{\"text\":\"\\ud83c\\udf0d Mapa Interativo de Pa\\u00edses e Popula\\u00e7\\u00e3o\"}},                        {\"responsive\": true}                    )                };                            </script>        </div>\n</body>\n</html>",
       "datasetInfos": [],
       "metadata": {},
       "removedWidgets": [],
       "textData": null,
       "type": "htmlSandbox"
      }
     },
     "output_type": "display_data"
    }
   ],
   "source": [
    "fig = px.scatter_geo(df_clean,\n",
    "                     lat='latitude',\n",
    "                     lon='longitude',\n",
    "                     hover_name='country',\n",
    "                     hover_data={'capital': True, 'population': True},\n",
    "                     size='population',\n",
    "                     projection='natural earth',\n",
    "                     title='🌍 Mapa Interativo de Países e População')\n",
    "\n",
    "fig.show()\n"
   ]
  },
  {
   "cell_type": "markdown",
   "metadata": {
    "application/vnd.databricks.v1+cell": {
     "cellMetadata": {},
     "inputWidgets": {},
     "nuid": "d67a2f86-8edd-4bfc-ae86-f4a81396ff28",
     "showTitle": false,
     "tableResultSettingsMap": {},
     "title": ""
    }
   },
   "source": [
    "📊 Análises Exploratórias"
   ]
  },
  {
   "cell_type": "code",
   "execution_count": 0,
   "metadata": {
    "application/vnd.databricks.v1+cell": {
     "cellMetadata": {
      "byteLimit": 2048000,
      "rowLimit": 10000
     },
     "inputWidgets": {},
     "nuid": "271bc941-ab72-4193-9c19-317560d1ccb3",
     "showTitle": false,
     "tableResultSettingsMap": {},
     "title": ""
    }
   },
   "outputs": [],
   "source": [
    "# Subconjunto para análise\n",
    "df_select = df[['country', 'capital', 'region', 'population', 'official_name']]\n",
    "\n",
    "\n"
   ]
  },
  {
   "cell_type": "code",
   "execution_count": 0,
   "metadata": {
    "application/vnd.databricks.v1+cell": {
     "cellMetadata": {
      "byteLimit": 2048000,
      "rowLimit": 10000
     },
     "inputWidgets": {},
     "nuid": "c1f71649-98bc-4773-a710-157aeee8acb9",
     "showTitle": false,
     "tableResultSettingsMap": {},
     "title": ""
    }
   },
   "outputs": [
    {
     "output_type": "stream",
     "name": "stdout",
     "output_type": "stream",
     "text": [
      "Out[22]: region\nAsia         9.209190e+07\nAfrica       2.308636e+07\nAmericas     1.823172e+07\nEurope       1.409310e+07\nOceania      1.597016e+06\nAntarctic    2.860000e+02\nName: population, dtype: float64"
     ]
    }
   ],
   "source": [
    "# 📌 População média por continente\n",
    "df_select.groupby('region')['population'].mean().sort_values(ascending=False)\n",
    "\n"
   ]
  },
  {
   "cell_type": "code",
   "execution_count": 0,
   "metadata": {
    "application/vnd.databricks.v1+cell": {
     "cellMetadata": {
      "byteLimit": 2048000,
      "rowLimit": 10000
     },
     "inputWidgets": {},
     "nuid": "c29d2d33-ab40-4b7a-b3b9-2b9c46b337c5",
     "showTitle": false,
     "tableResultSettingsMap": {},
     "title": ""
    }
   },
   "outputs": [
    {
     "output_type": "display_data",
     "data": {
      "text/html": [
       "<style scoped>\n",
       "  .table-result-container {\n",
       "    max-height: 300px;\n",
       "    overflow: auto;\n",
       "  }\n",
       "  table, th, td {\n",
       "    border: 1px solid black;\n",
       "    border-collapse: collapse;\n",
       "  }\n",
       "  th, td {\n",
       "    padding: 5px;\n",
       "  }\n",
       "  th {\n",
       "    text-align: left;\n",
       "  }\n",
       "</style><div class='table-result-container'><table class='table-result'><thead style='background-color: white'><tr><th>Pais</th><th>População</th></tr></thead><tbody><tr><td>China</td><td>1402112000</td></tr><tr><td>India</td><td>1380004385</td></tr><tr><td>United States</td><td>329484123</td></tr><tr><td>Indonesia</td><td>273523621</td></tr><tr><td>Pakistan</td><td>220892331</td></tr><tr><td>Brazil</td><td>212559409</td></tr><tr><td>Nigeria</td><td>206139587</td></tr><tr><td>Bangladesh</td><td>164689383</td></tr><tr><td>Russia</td><td>144104080</td></tr><tr><td>Mexico</td><td>128932753</td></tr></tbody></table></div>"
      ]
     },
     "metadata": {
      "application/vnd.databricks.v1+output": {
       "addedWidgets": {},
       "aggData": [],
       "aggError": "",
       "aggOverflow": false,
       "aggSchema": [],
       "aggSeriesLimitReached": false,
       "aggType": "",
       "arguments": {},
       "columnCustomDisplayInfos": {},
       "data": [
        [
         "China",
         1402112000
        ],
        [
         "India",
         1380004385
        ],
        [
         "United States",
         329484123
        ],
        [
         "Indonesia",
         273523621
        ],
        [
         "Pakistan",
         220892331
        ],
        [
         "Brazil",
         212559409
        ],
        [
         "Nigeria",
         206139587
        ],
        [
         "Bangladesh",
         164689383
        ],
        [
         "Russia",
         144104080
        ],
        [
         "Mexico",
         128932753
        ]
       ],
       "datasetInfos": [],
       "dbfsResultPath": null,
       "isJsonSchema": true,
       "metadata": {},
       "overflow": false,
       "plotOptions": {
        "customPlotOptions": {},
        "displayType": "table",
        "pivotAggregation": null,
        "pivotColumns": null,
        "xColumns": null,
        "yColumns": null
       },
       "removedWidgets": [],
       "schema": [
        {
         "metadata": "{}",
         "name": "Pais",
         "type": "\"string\""
        },
        {
         "metadata": "{}",
         "name": "População",
         "type": "\"long\""
        }
       ],
       "type": "table"
      }
     },
     "output_type": "display_data"
    }
   ],
   "source": [
    "# 📌 Top 10 países mais populosos\n",
    "country_counts_df = df_select[['country', 'population']].sort_values(by='population', ascending=False).head(10)\n",
    "\n",
    "country_counts_df.columns = ['Pais', 'População']\n",
    "\n",
    "display(country_counts_df)\n",
    "\n",
    "\n"
   ]
  },
  {
   "cell_type": "code",
   "execution_count": 0,
   "metadata": {
    "application/vnd.databricks.v1+cell": {
     "cellMetadata": {
      "byteLimit": 2048000,
      "rowLimit": 10000
     },
     "inputWidgets": {},
     "nuid": "36219dbe-8123-481e-a25b-faa43e1bec08",
     "showTitle": false,
     "tableResultSettingsMap": {},
     "title": ""
    }
   },
   "outputs": [
    {
     "output_type": "stream",
     "name": "stdout",
     "output_type": "stream",
     "text": [
      "Out[26]: 4"
     ]
    }
   ],
   "source": [
    "# 📌 Quantidade de países sem capital definida\n",
    "df_select[df_select['capital'] == 'N/A'].shape[0]\n",
    "\n"
   ]
  },
  {
   "cell_type": "code",
   "execution_count": 0,
   "metadata": {
    "application/vnd.databricks.v1+cell": {
     "cellMetadata": {
      "byteLimit": 2048000,
      "rowLimit": 10000
     },
     "inputWidgets": {},
     "nuid": "742da1ec-19cd-4350-a12e-ec3e07f64560",
     "showTitle": false,
     "tableResultSettingsMap": {},
     "title": ""
    }
   },
   "outputs": [
    {
     "output_type": "display_data",
     "data": {
      "text/html": [
       "<style type=\"text/css\">\n",
       "#T_527fe th {\n",
       "  text-align: center;\n",
       "}\n",
       "#T_527fe_row0_col0, #T_527fe_row1_col0, #T_527fe_row2_col0, #T_527fe_row3_col0, #T_527fe_row4_col0, #T_527fe_row5_col0 {\n",
       "  text-align: center;\n",
       "}\n",
       "#T_527fe_row0_col1 {\n",
       "  text-align: center;\n",
       "  background-color: #08306b;\n",
       "  color: #f1f1f1;\n",
       "}\n",
       "#T_527fe_row1_col1 {\n",
       "  text-align: center;\n",
       "  background-color: #083e81;\n",
       "  color: #f1f1f1;\n",
       "}\n",
       "#T_527fe_row2_col1 {\n",
       "  text-align: center;\n",
       "  background-color: #084d96;\n",
       "  color: #f1f1f1;\n",
       "}\n",
       "#T_527fe_row3_col1 {\n",
       "  text-align: center;\n",
       "  background-color: #105ba4;\n",
       "  color: #f1f1f1;\n",
       "}\n",
       "#T_527fe_row4_col1 {\n",
       "  text-align: center;\n",
       "  background-color: #91c3de;\n",
       "  color: #000000;\n",
       "}\n",
       "#T_527fe_row5_col1 {\n",
       "  text-align: center;\n",
       "  background-color: #f7fbff;\n",
       "  color: #000000;\n",
       "}\n",
       "</style>\n",
       "<table id=\"T_527fe\">\n",
       "  <thead>\n",
       "    <tr>\n",
       "      <th class=\"blank level0\" >&nbsp;</th>\n",
       "      <th id=\"T_527fe_level0_col0\" class=\"col_heading level0 col0\" >Continente</th>\n",
       "      <th id=\"T_527fe_level0_col1\" class=\"col_heading level0 col1\" >Quantidade de Países</th>\n",
       "    </tr>\n",
       "  </thead>\n",
       "  <tbody>\n",
       "    <tr>\n",
       "      <th id=\"T_527fe_level0_row0\" class=\"row_heading level0 row0\" >0</th>\n",
       "      <td id=\"T_527fe_row0_col0\" class=\"data row0 col0\" >Africa</td>\n",
       "      <td id=\"T_527fe_row0_col1\" class=\"data row0 col1\" >59</td>\n",
       "    </tr>\n",
       "    <tr>\n",
       "      <th id=\"T_527fe_level0_row1\" class=\"row_heading level0 row1\" >1</th>\n",
       "      <td id=\"T_527fe_row1_col0\" class=\"data row1 col0\" >Americas</td>\n",
       "      <td id=\"T_527fe_row1_col1\" class=\"data row1 col1\" >56</td>\n",
       "    </tr>\n",
       "    <tr>\n",
       "      <th id=\"T_527fe_level0_row2\" class=\"row_heading level0 row2\" >2</th>\n",
       "      <td id=\"T_527fe_row2_col0\" class=\"data row2 col0\" >Europe</td>\n",
       "      <td id=\"T_527fe_row2_col1\" class=\"data row2 col1\" >53</td>\n",
       "    </tr>\n",
       "    <tr>\n",
       "      <th id=\"T_527fe_level0_row3\" class=\"row_heading level0 row3\" >3</th>\n",
       "      <td id=\"T_527fe_row3_col0\" class=\"data row3 col0\" >Asia</td>\n",
       "      <td id=\"T_527fe_row3_col1\" class=\"data row3 col1\" >50</td>\n",
       "    </tr>\n",
       "    <tr>\n",
       "      <th id=\"T_527fe_level0_row4\" class=\"row_heading level0 row4\" >4</th>\n",
       "      <td id=\"T_527fe_row4_col0\" class=\"data row4 col0\" >Oceania</td>\n",
       "      <td id=\"T_527fe_row4_col1\" class=\"data row4 col1\" >27</td>\n",
       "    </tr>\n",
       "    <tr>\n",
       "      <th id=\"T_527fe_level0_row5\" class=\"row_heading level0 row5\" >5</th>\n",
       "      <td id=\"T_527fe_row5_col0\" class=\"data row5 col0\" >Antarctic</td>\n",
       "      <td id=\"T_527fe_row5_col1\" class=\"data row5 col1\" >5</td>\n",
       "    </tr>\n",
       "  </tbody>\n",
       "</table>\n"
      ]
     },
     "metadata": {
      "application/vnd.databricks.v1+output": {
       "addedWidgets": {},
       "arguments": {},
       "data": "<style type=\"text/css\">\n#T_527fe th {\n  text-align: center;\n}\n#T_527fe_row0_col0, #T_527fe_row1_col0, #T_527fe_row2_col0, #T_527fe_row3_col0, #T_527fe_row4_col0, #T_527fe_row5_col0 {\n  text-align: center;\n}\n#T_527fe_row0_col1 {\n  text-align: center;\n  background-color: #08306b;\n  color: #f1f1f1;\n}\n#T_527fe_row1_col1 {\n  text-align: center;\n  background-color: #083e81;\n  color: #f1f1f1;\n}\n#T_527fe_row2_col1 {\n  text-align: center;\n  background-color: #084d96;\n  color: #f1f1f1;\n}\n#T_527fe_row3_col1 {\n  text-align: center;\n  background-color: #105ba4;\n  color: #f1f1f1;\n}\n#T_527fe_row4_col1 {\n  text-align: center;\n  background-color: #91c3de;\n  color: #000000;\n}\n#T_527fe_row5_col1 {\n  text-align: center;\n  background-color: #f7fbff;\n  color: #000000;\n}\n</style>\n<table id=\"T_527fe\">\n  <thead>\n    <tr>\n      <th class=\"blank level0\" >&nbsp;</th>\n      <th id=\"T_527fe_level0_col0\" class=\"col_heading level0 col0\" >Continente</th>\n      <th id=\"T_527fe_level0_col1\" class=\"col_heading level0 col1\" >Quantidade de Países</th>\n    </tr>\n  </thead>\n  <tbody>\n    <tr>\n      <th id=\"T_527fe_level0_row0\" class=\"row_heading level0 row0\" >0</th>\n      <td id=\"T_527fe_row0_col0\" class=\"data row0 col0\" >Africa</td>\n      <td id=\"T_527fe_row0_col1\" class=\"data row0 col1\" >59</td>\n    </tr>\n    <tr>\n      <th id=\"T_527fe_level0_row1\" class=\"row_heading level0 row1\" >1</th>\n      <td id=\"T_527fe_row1_col0\" class=\"data row1 col0\" >Americas</td>\n      <td id=\"T_527fe_row1_col1\" class=\"data row1 col1\" >56</td>\n    </tr>\n    <tr>\n      <th id=\"T_527fe_level0_row2\" class=\"row_heading level0 row2\" >2</th>\n      <td id=\"T_527fe_row2_col0\" class=\"data row2 col0\" >Europe</td>\n      <td id=\"T_527fe_row2_col1\" class=\"data row2 col1\" >53</td>\n    </tr>\n    <tr>\n      <th id=\"T_527fe_level0_row3\" class=\"row_heading level0 row3\" >3</th>\n      <td id=\"T_527fe_row3_col0\" class=\"data row3 col0\" >Asia</td>\n      <td id=\"T_527fe_row3_col1\" class=\"data row3 col1\" >50</td>\n    </tr>\n    <tr>\n      <th id=\"T_527fe_level0_row4\" class=\"row_heading level0 row4\" >4</th>\n      <td id=\"T_527fe_row4_col0\" class=\"data row4 col0\" >Oceania</td>\n      <td id=\"T_527fe_row4_col1\" class=\"data row4 col1\" >27</td>\n    </tr>\n    <tr>\n      <th id=\"T_527fe_level0_row5\" class=\"row_heading level0 row5\" >5</th>\n      <td id=\"T_527fe_row5_col0\" class=\"data row5 col0\" >Antarctic</td>\n      <td id=\"T_527fe_row5_col1\" class=\"data row5 col1\" >5</td>\n    </tr>\n  </tbody>\n</table>\n",
       "datasetInfos": [],
       "metadata": {},
       "removedWidgets": [],
       "textData": null,
       "type": "htmlSandbox"
      }
     },
     "output_type": "display_data"
    }
   ],
   "source": [
    "# 📌 Contagem de países por continente\n",
    "# Agrupando e renomeando colunas\n",
    "region_counts_df = df_select['region'].value_counts().reset_index()\n",
    "region_counts_df.columns = ['Continente', 'Quantidade de Países']\n",
    "\n",
    "# Ordena por quantidade\n",
    "region_counts_df = region_counts_df.sort_values(by='Quantidade de Países', ascending=False).reset_index(drop=True)\n",
    "\n",
    "region_counts_df.style.set_properties(**{'text-align': 'center'}) \\\n",
    "    .set_table_styles([{\"selector\": \"th\", \"props\": [(\"text-align\", \"center\")]}]) \\\n",
    "    .background_gradient(subset=[\"Quantidade de Países\"], cmap=\"Blues\")\n",
    "\n",
    "# Exibe como tabela em Databricks\n",
    "# display(region_counts_df)\n"
   ]
  }
 ],
 "metadata": {
  "application/vnd.databricks.v1+notebook": {
   "computePreferences": null,
   "dashboards": [],
   "environmentMetadata": {
    "base_environment": "",
    "environment_version": "1"
   },
   "inputWidgetPreferences": null,
   "language": "python",
   "notebookMetadata": {
    "pythonIndentUnit": 4
   },
   "notebookName": "Data_Analysis_Api",
   "widgets": {}
  }
 },
 "nbformat": 4,
 "nbformat_minor": 0
}